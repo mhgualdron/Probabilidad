{
 "cells": [
  {
   "cell_type": "markdown",
   "metadata": {},
   "source": [
    "# <span style= \"color:royalblue\"><center>La escuela Bayesiana</center></span>\n",
    "\n",
    "Existe una pelea grande entre las escuelas bayesianas y frecuentistas.\n",
    "Bayes está basado en el teorema de Bayes, que da una interpretación muy diferente a la que se puede dar frecuentistamente sobre las probabilidades.\n",
    "<center><img src= ../Imagenes/bayes.png></center>\n",
    "<center><img src= ../Imagenes/mama.png></center>"
   ]
  },
  {
   "cell_type": "markdown",
   "metadata": {},
   "source": [
    "# <span style= \"color:royalblue\"><center> MAP vs MLE </center></span>\n",
    "El MLE es un método frecuentista, mientras que el MAP es un método bayesiano. El MAP es el máximo a posteriori. En el MAP no se optimiza la verosimilitud sino justamente esa aposteriori. La máxima probabilidad de tener un h, dado que tengo unos datos. Que se traduce en la máxima probabilidad, por Bayes, de la verosimilitud por la apriori. Por qué se desprecia la evidencia? porque para el teorema de Bayes la evidencia siempre va a ser la misma. h es la hipótesis del modelamiento y los parámetros. \n",
    "\n",
    "<img src= ../Imagenes/map.png>"
   ]
  },
  {
   "cell_type": "markdown",
   "metadata": {
    "id": "sygaS-ObYZdt",
    "tags": []
   },
   "source": [
    "# <span style= \"color:royalblue\"><center>Ejemplo con clasificador de Naive Bayes </center></span>\n",
    "\n",
    "Consideremos un conjunto de datos artificial sobre el cual podamos probar un clasificador de Naive Bayes.\n",
    "Naive es una simplificación.\n",
    "<img src = ../Imagenes/naive.png>"
   ]
  },
  {
   "cell_type": "code",
   "execution_count": 2,
   "metadata": {
    "colab": {
     "base_uri": "https://localhost:8080/",
     "height": 280
    },
    "id": "9vQgN0vfMt7S",
    "outputId": "94098fd2-57ff-4146-91e6-d92f92b7b281"
   },
   "outputs": [
    {
     "data": {
      "text/plain": [
       "<matplotlib.legend.Legend at 0x2049a81ff90>"
      ]
     },
     "execution_count": 2,
     "metadata": {},
     "output_type": "execute_result"
    },
    {
     "data": {
      "image/png": "[encoded data removed]",
      "text/plain": [
       "<Figure size 640x480 with 1 Axes>"
      ]
     },
     "metadata": {},
     "output_type": "display_data"
    }
   ],
   "source": [
    "from sklearn.datasets import make_blobs\n",
    "import matplotlib.pyplot as plt\n",
    "import numpy as np\n",
    "from scipy.stats import norm\n",
    "\n",
    "X, y = make_blobs(n_samples=10000, centers=2, n_features=2, random_state=1)\n",
    "\n",
    "# esta función ajusta una gausiana \n",
    "# a un conjunto 'data' \n",
    "def fit_distribution(data): \n",
    "    mu = data.mean()\n",
    "    sigma = data.std() \n",
    "    dist = norm(mu, sigma)\n",
    "    return dist\n",
    "\n",
    "plt.scatter(X[y==1][:,0], X[y==1][:,1], label = '1', color='red')\n",
    "plt.scatter(X[y==0][:,0], X[y==0][:,1], label = '0', color = 'blue')\n",
    "plt.legend()"
   ]
  },
  {
   "cell_type": "markdown",
   "metadata": {
    "id": "T1jSlSEiRjkj"
   },
   "source": [
    "Consideramos un modelo de clasificacion de Naive Bayes:\n",
    "\n",
    "$$\n",
    "P(c \\vert x) = P(x \\vert c)P(c)\n",
    "$$\n",
    "\n",
    "donde $P(c)$ es la probabilidad prior dada una clase $c$ y $P(x\\vert c)$ es la verosimilitud de $x$ dada la una clase $c$, con Naive Bayes esto resulta en: \n",
    "\n",
    "$$\n",
    "P(c \\vert x) = P(c)\\prod_iP(x_i \\vert c)\n",
    "$$\n",
    "\n",
    "Lo cual para nuestro caso (`n_features=2`) se traduce en: \n",
    "\n",
    "$$\n",
    "P(c \\vert x) = \\underbrace{P(c)}_{\\text{prior}} \\underbrace{P(x_0 \\vert c) P(x_1 \\vert c)}_{\\text{likelihood}}\n",
    "$$"
   ]
  },
  {
   "cell_type": "code",
   "execution_count": 3,
   "metadata": {
    "id": "zMtzhYxROFw_"
   },
   "outputs": [
    {
     "ename": "KeyboardInterrupt",
     "evalue": "",
     "output_type": "error",
     "traceback": [
      "\u001b[1;31m-----------------------------------------------------------------------\u001b[0m",
      "\u001b[1;31mKeyboardInterrupt\u001b[0m                     Traceback (most recent call last)",
      "Cell \u001b[1;32mIn[3], line 26\u001b[0m\n\u001b[0;32m     23\u001b[0m \u001b[38;5;28;01mdef\u001b[39;00m \u001b[38;5;21mprobability\u001b[39m(c, X):\n\u001b[0;32m     24\u001b[0m       \u001b[38;5;28;01mreturn\u001b[39;00m prior(c)\u001b[38;5;241m*\u001b[39mlikelihood(X,c)\n\u001b[1;32m---> 26\u001b[0m predictions \u001b[38;5;241m=\u001b[39m \u001b[43m[\u001b[49m\u001b[43mnp\u001b[49m\u001b[38;5;241;43m.\u001b[39;49m\u001b[43margmax\u001b[49m\u001b[43m(\u001b[49m\u001b[43m[\u001b[49m\u001b[43mprobability\u001b[49m\u001b[43m(\u001b[49m\u001b[38;5;241;43m0\u001b[39;49m\u001b[43m,\u001b[49m\u001b[43m \u001b[49m\u001b[43mvector\u001b[49m\u001b[43m)\u001b[49m\u001b[43m,\u001b[49m\u001b[43m \u001b[49m\u001b[43mprobability\u001b[49m\u001b[43m(\u001b[49m\u001b[38;5;241;43m1\u001b[39;49m\u001b[43m,\u001b[49m\u001b[43m \u001b[49m\u001b[43mvector\u001b[49m\u001b[43m)\u001b[49m\u001b[43m]\u001b[49m\u001b[43m)\u001b[49m\u001b[43m \u001b[49m\u001b[38;5;28;43;01mfor\u001b[39;49;00m\u001b[43m \u001b[49m\u001b[43mvector\u001b[49m\u001b[43m \u001b[49m\u001b[38;5;129;43;01min\u001b[39;49;00m\u001b[43m \u001b[49m\u001b[43mX\u001b[49m\u001b[43m]\u001b[49m\n",
      "Cell \u001b[1;32mIn[3], line 26\u001b[0m, in \u001b[0;36m<listcomp>\u001b[1;34m(.0)\u001b[0m\n\u001b[0;32m     23\u001b[0m \u001b[38;5;28;01mdef\u001b[39;00m \u001b[38;5;21mprobability\u001b[39m(c, X):\n\u001b[0;32m     24\u001b[0m       \u001b[38;5;28;01mreturn\u001b[39;00m prior(c)\u001b[38;5;241m*\u001b[39mlikelihood(X,c)\n\u001b[1;32m---> 26\u001b[0m predictions \u001b[38;5;241m=\u001b[39m [np\u001b[38;5;241m.\u001b[39margmax([\u001b[43mprobability\u001b[49m\u001b[43m(\u001b[49m\u001b[38;5;241;43m0\u001b[39;49m\u001b[43m,\u001b[49m\u001b[43m \u001b[49m\u001b[43mvector\u001b[49m\u001b[43m)\u001b[49m, probability(\u001b[38;5;241m1\u001b[39m, vector)]) \u001b[38;5;28;01mfor\u001b[39;00m vector \u001b[38;5;129;01min\u001b[39;00m X]\n",
      "Cell \u001b[1;32mIn[3], line 24\u001b[0m, in \u001b[0;36mprobability\u001b[1;34m(c, X)\u001b[0m\n\u001b[0;32m     23\u001b[0m \u001b[38;5;28;01mdef\u001b[39;00m \u001b[38;5;21mprobability\u001b[39m(c, X):\n\u001b[1;32m---> 24\u001b[0m       \u001b[38;5;28;01mreturn\u001b[39;00m prior(c)\u001b[38;5;241m*\u001b[39m\u001b[43mlikelihood\u001b[49m\u001b[43m(\u001b[49m\u001b[43mX\u001b[49m\u001b[43m,\u001b[49m\u001b[43mc\u001b[49m\u001b[43m)\u001b[49m\n",
      "Cell \u001b[1;32mIn[3], line 20\u001b[0m, in \u001b[0;36mlikelihood\u001b[1;34m(X, c)\u001b[0m\n\u001b[0;32m     19\u001b[0m \u001b[38;5;28;01mdef\u001b[39;00m \u001b[38;5;21mlikelihood\u001b[39m(X, c):\n\u001b[1;32m---> 20\u001b[0m       \u001b[38;5;28;01mreturn\u001b[39;00m distX0(c)\u001b[38;5;241m.\u001b[39mpdf(X[\u001b[38;5;241m0\u001b[39m])\u001b[38;5;241m*\u001b[39m\u001b[43mdistX1\u001b[49m\u001b[43m(\u001b[49m\u001b[43mc\u001b[49m\u001b[43m)\u001b[49m\u001b[38;5;241m.\u001b[39mpdf(X[\u001b[38;5;241m1\u001b[39m])\n",
      "Cell \u001b[1;32mIn[3], line 14\u001b[0m, in \u001b[0;36mdistX1\u001b[1;34m(c)\u001b[0m\n\u001b[0;32m     12\u001b[0m \u001b[38;5;28;01mdef\u001b[39;00m \u001b[38;5;21mdistX1\u001b[39m(c):\n\u001b[0;32m     13\u001b[0m       \u001b[38;5;28;01mif\u001b[39;00m c\u001b[38;5;241m==\u001b[39m\u001b[38;5;241m0\u001b[39m:\n\u001b[1;32m---> 14\u001b[0m         \u001b[38;5;28;01mreturn\u001b[39;00m \u001b[43mfit_distribution\u001b[49m\u001b[43m(\u001b[49m\u001b[43mX\u001b[49m\u001b[43m[\u001b[49m\u001b[43my\u001b[49m\u001b[38;5;241;43m==\u001b[39;49m\u001b[38;5;241;43m0\u001b[39;49m\u001b[43m]\u001b[49m\u001b[43m[\u001b[49m\u001b[43m:\u001b[49m\u001b[43m,\u001b[49m\u001b[38;5;241;43m1\u001b[39;49m\u001b[43m]\u001b[49m\u001b[43m)\u001b[49m\n\u001b[0;32m     15\u001b[0m       \u001b[38;5;28;01melif\u001b[39;00m c\u001b[38;5;241m==\u001b[39m\u001b[38;5;241m1\u001b[39m:\n\u001b[0;32m     16\u001b[0m         \u001b[38;5;28;01mreturn\u001b[39;00m fit_distribution(X[y\u001b[38;5;241m==\u001b[39m\u001b[38;5;241m1\u001b[39m][:,\u001b[38;5;241m1\u001b[39m])\n",
      "Cell \u001b[1;32mIn[2], line 10\u001b[0m, in \u001b[0;36mfit_distribution\u001b[1;34m(data)\u001b[0m\n\u001b[0;32m      6\u001b[0m X, y \u001b[38;5;241m=\u001b[39m make_blobs(n_samples\u001b[38;5;241m=\u001b[39m\u001b[38;5;241m10000\u001b[39m, centers\u001b[38;5;241m=\u001b[39m\u001b[38;5;241m2\u001b[39m, n_features\u001b[38;5;241m=\u001b[39m\u001b[38;5;241m2\u001b[39m, random_state\u001b[38;5;241m=\u001b[39m\u001b[38;5;241m1\u001b[39m)\n\u001b[0;32m      8\u001b[0m \u001b[38;5;66;03m# esta función ajusta una gausiana \u001b[39;00m\n\u001b[0;32m      9\u001b[0m \u001b[38;5;66;03m# a un conjunto 'data' \u001b[39;00m\n\u001b[1;32m---> 10\u001b[0m \u001b[38;5;28;01mdef\u001b[39;00m \u001b[38;5;21mfit_distribution\u001b[39m(data): \n\u001b[0;32m     11\u001b[0m     mu \u001b[38;5;241m=\u001b[39m data\u001b[38;5;241m.\u001b[39mmean()\n\u001b[0;32m     12\u001b[0m     sigma \u001b[38;5;241m=\u001b[39m data\u001b[38;5;241m.\u001b[39mstd() \n",
      "\u001b[1;31mKeyboardInterrupt\u001b[0m: "
     ]
    }
   ],
   "source": [
    "# calculamos priors\n",
    "def prior(c):\n",
    "      return len(X[y==c])/len(X)\n",
    "\n",
    "# tenemos cuatro posibles distribuciones a ajustar (verosimilitud)\n",
    "def distX0(c):\n",
    "      if c==0:\n",
    "        return fit_distribution(X[y==0][:,0])\n",
    "      elif c==1:\n",
    "        return fit_distribution(X[y==1][:,0])\n",
    "\n",
    "def distX1(c):\n",
    "      if c==0:\n",
    "        return fit_distribution(X[y==0][:,1])\n",
    "      elif c==1:\n",
    "        return fit_distribution(X[y==1][:,1])\n",
    "\n",
    "# verosimilitud\n",
    "def likelihood(X, c):\n",
    "      return distX0(c).pdf(X[0])*distX1(c).pdf(X[1])\n",
    "\n",
    "# posterior\n",
    "def probability(c, X):\n",
    "      return prior(c)*likelihood(X,c)\n",
    "\n",
    "predictions = [np.argmax([probability(0, vector), probability(1, vector)]) for vector in X]"
   ]
  },
  {
   "cell_type": "markdown",
   "metadata": {
    "id": "BA0pPTW_dLIW"
   },
   "source": [
    "Al final la distribución posterior nos da la probabilidad de que un dato `X` corresponda a una clase `c`. Luego de esto evaluamos el ajuste del modelo de clasificación al dataset artificial con una matriz de confusión:  "
   ]
  },
  {
   "cell_type": "code",
   "execution_count": null,
   "metadata": {
    "colab": {
     "base_uri": "https://localhost:8080/"
    },
    "id": "XKwDGHG1XFU8",
    "outputId": "a9c235a2-ed4a-4789-adfd-27b122c2ad7d"
   },
   "outputs": [],
   "source": [
    "from sklearn.metrics import confusion_matrix\n",
    "confusion_matrix(y, predictions)"
   ]
  },
  {
   "cell_type": "markdown",
   "metadata": {
    "id": "oXPl05Eldf4P"
   },
   "source": [
    "Donde vemos que la distribución ajusta perfectamente los datos, de lo cual podemos también estimar la clase para otros puntos que no estaban inicialmente en el dataset:"
   ]
  },
  {
   "cell_type": "code",
   "execution_count": null,
   "metadata": {
    "colab": {
     "base_uri": "https://localhost:8080/"
    },
    "id": "AZ1Q2e1yYQIC",
    "outputId": "46077821-7103-404c-cbef-56ba574600d0"
   },
   "outputs": [],
   "source": [
    "def class_distribution(x, y):\n",
    "      return np.argmax([probability(0, [x,y]), probability(1, [x,y])])\n",
    "\n",
    "class_distribution(-6, 0)"
   ]
  },
  {
   "cell_type": "code",
   "execution_count": null,
   "metadata": {
    "colab": {
     "base_uri": "https://localhost:8080/"
    },
    "id": "DvFrGF2CeSIC",
    "outputId": "ba8f68dd-87b8-4a8c-88ea-fefad44a5b6a"
   },
   "outputs": [],
   "source": [
    "class_distribution(-4, 0)"
   ]
  },
  {
   "cell_type": "code",
   "execution_count": null,
   "metadata": {
    "colab": {
     "base_uri": "https://localhost:8080/",
     "height": 280
    },
    "id": "pV7uXTJ5cx4W",
    "outputId": "3db83487-886d-4041-ffc8-bdade6bb54c2"
   },
   "outputs": [],
   "source": [
    "plt.scatter(X[y==1][:,0], X[y==1][:,1], label = '1', color='red', marker = '*')\n",
    "plt.scatter(X[y==0][:,0], X[y==0][:,1], label = '0', color = 'blue', marker='*')\n",
    "plt.scatter(-6, 0, color = 'red', marker='s', s=53)\n",
    "plt.scatter(-4, 0, color = 'blue', marker='s', s=53)\n",
    "plt.legend()"
   ]
  },
  {
   "cell_type": "markdown",
   "metadata": {
    "id": "iKGBDsoneir8"
   },
   "source": [
    "En este plot anterior se evidencia cómo el clasificador basado en una distribución posterior puede clasificar puntos que no estaban en el conjunto de datos inicial (puntos con forma de cuadrado), permitiendo de esta manera extrapolar las funciones de clasificación mas allá de los datos iniciales."
   ]
  }
 ],
 "metadata": {
  "colab": {
   "provenance": []
  },
  "kernelspec": {
   "display_name": "Python 3 (ipykernel)",
   "language": "python",
   "name": "python3"
  },
  "language_info": {
   "codemirror_mode": {
    "name": "ipython",
    "version": 3
   },
   "file_extension": ".py",
   "mimetype": "text/x-python",
   "name": "python",
   "nbconvert_exporter": "python",
   "pygments_lexer": "ipython3",
   "version": "3.11.0"
  }
 },
 "nbformat": 4,
 "nbformat_minor": 4
}
