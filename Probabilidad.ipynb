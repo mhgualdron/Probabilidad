{
 "cells": [
  {
   "cell_type": "markdown",
   "id": "bf28e090-9579-4cff-bac4-d7872b29408e",
   "metadata": {},
   "source": [
    "# <span style= \"color:royalblue\"><center> Probabilidad </center></span>"
   ]
  },
  {
   "cell_type": "markdown",
   "id": "5dc814e3-edde-4655-85c1-5acff23e3e41",
   "metadata": {},
   "source": [
    "Es el lenguaje que nos da herramientas para cuantificar la incertidumbre.\n",
    "\n",
    "1. Suceso: Cualquiere evento al que se le puede calcular la P. Elemental sería por ejemploa lgo específico, que el dado caiga en 4. Un suceso más general podría ser que fuera par.  Es decir, todo evento del espacio muestral es un suceso elemental.\n",
    "\n",
    "### Axiomas de la probabilidad:\n",
    "\n",
    "$ 0 <= P <= 1$\n",
    "Certeza -> $P = 1$\n",
    "imposibilidad -> $P$ = 0\n",
    "Dos eventos son disyuntos sí y sólo si: $P(A u B) $ = $P(A)+ P(B)$\n",
    "\n",
    "### Concepto de probabildiad en Machine Learning\n",
    "\n",
    "Sie s un conjunto de herramientas que nos permite calcular la incertidumbre, en dónde está la incertidumbre?\n",
    "* Datos: Siempre va a haber un margen de error en los datos, es decir, informaic´n imperfecta o incompleta\n",
    "* Atributos del modelo: Un modelo se alimenta de variables explicativas, esto también representa una incertidumbre en sí misma, porque está sobre-simplificando.\n",
    "* Arquitectura del modelo: sigue simplificando y da otra capa de incertidumbre. \n",
    "Estas tres capas de incertidumbre son clasificables con modelos estadísticos de clasificación. \n",
    "\n",
    "<img src= ../Imagenes/modelo.png>\n",
    "\n",
    "## **TODAS LAS ETAPAS DEL MODELO USAN PROBABILIDAD**\n",
    "\n",
    "<img src= ../Imagenes/todos.png>\n",
    "\n",
    "1. Naive Bayes es un modelo,\n",
    "2. MLE: Estimación de máxima verosimilitud, técnica probabilística.\n",
    "3. Optimización Bayesiana: Hay parámestros calibrados, pero lo que se llaman calibrados son hiperparámetros que no puedo configurar ocn optimización, sino más bien con redes neuronales. Hiperparámetros son los que están por fuera de toda la calibración inicial.\n",
    "\n",
    "Inteprretación del modelo: A veces cuando un modelo es complejo, y con frecuencia si es probabilístico, debería también entender probabilísticamnete eso. \n",
    "\n",
    "\n",
    "### Tipos de probabilidad\n",
    "\n",
    "Con frecuencia generan confución.\n",
    "1. Conjunta (joint): Probabildiad de A y B, $P(AnB)$\n",
    "2. Marginal: Probabilidad única a partir de los demás estados, independiente de los demás. $P(A) = \\sum P(A,B)$\n",
    "3. Condicional: Probabilidad de A dado que B, $P(AnB) = P(A|B) * P(B)$\n",
    "\n",
    "Las condicionales no reflejan causalidades.\n"
   ]
  },
  {
   "cell_type": "markdown",
   "id": "837ac6f6-bc81-4083-a0fa-44fbcf03e5ee",
   "metadata": {},
   "source": [
    "### Correlaciones de eventos:\n",
    "* A = P {El resultado de lanzar un dado es 4}\n",
    "* B = P {El resultado de lanzar un dado es par}\n",
    "* C = P {El resultado de lanzar un dado es impar}\n",
    "\n",
    "La ocurrencia d eun evento incrementa las posibilidades de otro. Por ejemplo, si uno se preguntara cuál es la probabilidad de que ocurra un 4 si el númerofue impar? Ninguna, porque no hay probabilidad conjunta alguna porque no hay intersección, los eventos son mutuamente excluyentes, así que están negativamente correlacionados. Están positivamente correlacionados sólo si dado que fue par, ¿cuál es la P de que sea 4?.\n",
    "Dos eventos excluyentes son altamente dependientes.\n",
    "\n",
    "### La paradoja ¿Niño o Niña?\n",
    "Una mujer tiene dos bebés donde el mayor es un varón. 1/2\n",
    "Una mujer tiene dos bebés donde uno de ellos es varón. 1/3\n",
    "¿Cuál es la P de que ésta mujer tengas 2 hijos varones?\n",
    "\n",
    "### El problema de Monthy Hall\n",
    "Let's Make a Deal:\n",
    "3 opciones de puertas donde detrás hay un premio en una y dos desgracias. \n",
    "<img src = ../Imagenes/hall.png>\n"
   ]
  },
  {
   "cell_type": "markdown",
   "id": "2e5dbb84-23aa-4de2-8593-85f6e2ab3ffd",
   "metadata": {},
   "source": [
    "## El concepto de la Distribución\n",
    "\n",
    "Una distirbución es una **función** que coge una variable aleatoria, abarcando todos los posibles sucesos y les asigna una probabilidad $P$\n",
    "$P = f(X)$\n",
    "Donde además el dominio va a estar dado pro todos los posibles valores donde la función puede estar calculada.\n",
    "\n",
    "$Dom(X)$ $-> {Discretos, Continuos}$\n",
    "\n",
    "Discretos -> {1,2,3,4,5,6,7....}\n",
    "\n",
    "Continua [0,$infinito$]\n",
    "\n",
    "La integral de una distribución es el área bajo la curba d ela función de distirbución de probabilidad en un intervalo, como en los valores continuos. En los discretos no hay una integral, porque el valor es exacto.\n",
    "\n",
    "\n",
    "### Distribuciones discretas\n",
    "Son las más comunes, porque son los eventos por ejemplo de tipo Bernoulli con suceso o fracaso, que da paso a la distribución Binomial. Ejemplo, lanzar 1000 veces una moneda. Si lanzo 3 monedas, cuál es la P de que obtenga exactamente 2 caras? Es decir, $P(2 caras|3 lanzamientos)$\n",
    "\n",
    "Pero qué pasaría si $P(k caras | n lanzamientos)$? Cuál es la fórmula para poder saber cuánto habrá con infinitas cantidades de lanzamientos?\n",
    "Si, está el concepto de la combinatoria.\n",
    "\n",
    "$P(\\frac{n}{k})$ = $\\frac{n!}{k!(n-k)!}$\n",
    "\n",
    "Ejemplo:\n",
    "\n",
    "$P(1,3)$ = $P(\\frac{n}{k})$ = $\\frac{3!}{1!(3-1)!}$ = 3\n",
    "Así se cuentan los estados exitosos, pero entonces, cómo se calcula la probabilidad en un Bernoulli??\n",
    "\n",
    "$P(k,n;p) = \\frac{n}{k}p^k(1-p)^n-k = \\frac{n!}{k!(n-k)!}p^k(1-p)^n-k$"
   ]
  },
  {
   "cell_type": "code",
   "execution_count": null,
   "id": "5cdf8ad6-6696-477e-9973-604f614b29df",
   "metadata": {},
   "outputs": [],
   "source": []
  }
 ],
 "metadata": {
  "kernelspec": {
   "display_name": "Python 3 (ipykernel)",
   "language": "python",
   "name": "python3"
  },
  "language_info": {
   "codemirror_mode": {
    "name": "ipython",
    "version": 3
   },
   "file_extension": ".py",
   "mimetype": "text/x-python",
   "name": "python",
   "nbconvert_exporter": "python",
   "pygments_lexer": "ipython3",
   "version": "3.11.0"
  }
 },
 "nbformat": 4,
 "nbformat_minor": 5
}
